{
  "nbformat": 4,
  "nbformat_minor": 0,
  "metadata": {
    "colab": {
      "provenance": [],
      "authorship_tag": "ABX9TyOWKRdYJPjU4Mc8Z/O3wysZ",
      "include_colab_link": true
    },
    "kernelspec": {
      "name": "python3",
      "display_name": "Python 3"
    },
    "language_info": {
      "name": "python"
    }
  },
  "cells": [
    {
      "cell_type": "markdown",
      "metadata": {
        "id": "view-in-github",
        "colab_type": "text"
      },
      "source": [
        "<a href=\"https://colab.research.google.com/github/vm-codes/Atividades/blob/main/Atividade_Loop_Calculadora.ipynb\" target=\"_parent\"><img src=\"https://colab.research.google.com/assets/colab-badge.svg\" alt=\"Open In Colab\"/></a>"
      ]
    },
    {
      "cell_type": "code",
      "source": [
        "def calculadora():\n",
        "    continuar = True\n",
        "    while continuar:\n",
        "        print(\"Digite o número da operação desejada: \\n 1-Soma, 2-Subtração, 3-Multiplicação, 4-Divisão, 0-Sair\")\n",
        "\n",
        "        operacao = input()\n",
        "\n",
        "        if operacao == '0':\n",
        "            print(\"Saindo...\")\n",
        "            continuar = False\n",
        "        elif operacao in ['1', '2', '3', '4']:\n",
        "            try:\n",
        "                num1 = float(input(\"Digite o primeiro número: \"))\n",
        "                num2 = float(input(\"Digite o segundo número: \"))\n",
        "            except ValueError:\n",
        "                print(\"Inválido. Digite apenas números.\")\n",
        "                continue\n",
        "\n",
        "\n",
        "            if operacao == '1':\n",
        "                resultado = num1 + num2\n",
        "                print(f\"O resultado da soma é: {resultado}\")\n",
        "            elif operacao == '2':\n",
        "                resultado = num1 - num2\n",
        "                print(f\"O resultado da subtração é: {resultado}\")\n",
        "            elif operacao == '3':\n",
        "                resultado = num1 * num2\n",
        "                print(f\"O resultado da multiplicação é: {resultado}\")\n",
        "            elif operacao == '4':\n",
        "              if num2 != 0:\n",
        "                resultado = num1 / num2\n",
        "                print(f\"O resultado da divisão é: {resultado}\")\n",
        "              else:\n",
        "                print(\"Erro! Divisão por zero não é permitida.\")\n",
        "        else:\n",
        "            print(\"Essa opção é inválida. Escolha um número entre esses: \")\n",
        "\n",
        "calculadora()\n"
      ],
      "metadata": {
        "colab": {
          "base_uri": "https://localhost:8080/"
        },
        "id": "qbntPzRBJzwE",
        "outputId": "ddf19510-21e2-4e09-ef7a-669e4e7bac6a"
      },
      "execution_count": null,
      "outputs": [
        {
          "output_type": "stream",
          "name": "stdout",
          "text": [
            "Digite o número da operação desejada: \n",
            " 1-Soma, 2-Subtração, 3-Multiplicação, 4-Divisão, 0-Sair\n",
            "4\n",
            "Digite o primeiro número: 9\n",
            "Digite o segundo número: 0\n",
            "Erro! Divisão por zero não é permitida.\n",
            "Digite o número da operação desejada: \n",
            " 1-Soma, 2-Subtração, 3-Multiplicação, 4-Divisão, 0-Sair\n",
            "6\n",
            "Essa opção é inválida. Escolha um número entre esses: \n",
            "Digite o número da operação desejada: \n",
            " 1-Soma, 2-Subtração, 3-Multiplicação, 4-Divisão, 0-Sair\n",
            "1\n",
            "Digite o primeiro número: sim\n",
            "Inválido. Digite apenas números.\n",
            "Digite o número da operação desejada: \n",
            " 1-Soma, 2-Subtração, 3-Multiplicação, 4-Divisão, 0-Sair\n"
          ]
        }
      ]
    }
  ]
}